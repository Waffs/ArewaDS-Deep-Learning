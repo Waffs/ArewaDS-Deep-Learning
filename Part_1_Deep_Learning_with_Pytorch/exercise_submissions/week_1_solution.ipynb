{
 "cells": [
  {
   "cell_type": "markdown",
   "metadata": {},
   "source": [
    "# Arewa Data Science Academy\n",
    "### Deep Learning Cohort2.0\n",
    "### Name: Ahmad Wafiq Saad\n",
    "### Title: Week 1 Solution\n",
    "\n",
    "### Exercises Solution\n"
   ]
  },
  {
   "cell_type": "markdown",
   "metadata": {},
   "source": [
    "00. PyTorch Fundamentals Exercises\n",
    "\n",
    "1. Documentation reading\n",
    "A big part of deep learning (and learning to code in general) is getting familiar with the documentation of a certain framework you're using. We'll be using the PyTorch documentation a lot throughout the rest of this course. So I'd recommend spending 10-minutes reading the following (it's okay if you don't get some things for now, the focus is not yet full understanding, it's awareness):\n",
    "\n",
    "- The documentation on torch.Tensor.\n",
    "\n",
    "- The documentation on torch.cuda."
   ]
  },
  {
   "cell_type": "markdown",
   "metadata": {},
   "source": [
    "### 2. Create a random tensor with shape (7, 7)."
   ]
  },
  {
   "cell_type": "code",
   "execution_count": 3,
   "metadata": {},
   "outputs": [
    {
     "name": "stderr",
     "output_type": "stream",
     "text": [
      "2025-01-23 11:28:04.948254: I tensorflow/core/util/port.cc:153] oneDNN custom operations are on. You may see slightly different numerical results due to floating-point round-off errors from different computation orders. To turn them off, set the environment variable `TF_ENABLE_ONEDNN_OPTS=0`.\n",
      "2025-01-23 11:28:06.440434: E external/local_xla/xla/stream_executor/cuda/cuda_fft.cc:477] Unable to register cuFFT factory: Attempting to register factory for plugin cuFFT when one has already been registered\n",
      "WARNING: All log messages before absl::InitializeLog() is called are written to STDERR\n",
      "E0000 00:00:1737628087.026571    2876 cuda_dnn.cc:8310] Unable to register cuDNN factory: Attempting to register factory for plugin cuDNN when one has already been registered\n",
      "E0000 00:00:1737628087.225849    2876 cuda_blas.cc:1418] Unable to register cuBLAS factory: Attempting to register factory for plugin cuBLAS when one has already been registered\n",
      "2025-01-23 11:28:08.582793: I tensorflow/core/platform/cpu_feature_guard.cc:210] This TensorFlow binary is optimized to use available CPU instructions in performance-critical operations.\n",
      "To enable the following instructions: AVX2 AVX512F AVX512_VNNI FMA, in other operations, rebuild TensorFlow with the appropriate compiler flags.\n"
     ]
    },
    {
     "name": "stdout",
     "output_type": "stream",
     "text": [
      "tf.Tensor(\n",
      "[[ 0.37829944 -0.26755083 -0.39437693 -0.23044169  0.88813317 -1.6284449\n",
      "  -0.09735168]\n",
      " [-0.3704389   1.292468    0.8932431  -1.0800607  -0.53846854  0.23086384\n",
      "  -0.78866506]\n",
      " [-0.494756    1.7196975   1.2828733  -1.0599297  -1.269399    0.62080926\n",
      "   0.11939997]\n",
      " [-1.365826   -2.0453062   1.1855282  -0.44859597 -1.8467904   0.74054444\n",
      "  -1.8805119 ]\n",
      " [ 0.6470118   0.94279814 -2.480592   -0.22227727 -0.5672169  -0.45507312\n",
      "   0.39114994]\n",
      " [ 0.9009905  -0.9908261   0.45067784  0.78786486 -0.5465258   0.52070314\n",
      "  -1.8584627 ]\n",
      " [ 0.32010114  1.948287    0.16844948  1.1870337  -0.0533631   0.02572237\n",
      "  -2.6609998 ]], shape=(7, 7), dtype=float32)\n"
     ]
    },
    {
     "name": "stderr",
     "output_type": "stream",
     "text": [
      "2025-01-23 11:28:19.971528: E external/local_xla/xla/stream_executor/cuda/cuda_driver.cc:152] failed call to cuInit: INTERNAL: CUDA error: Failed call to cuInit: UNKNOWN ERROR (303)\n"
     ]
    }
   ],
   "source": [
    "import tensorflow as tf\n",
    "\n",
    "# Define the shape of the tensor\n",
    "shape = (7, 7)\n",
    "\n",
    "# Generate a random tensor with the specified shape\n",
    "rand_tensor = tf.random.normal(shape)\n",
    "\n",
    "# Print the random tensor\n",
    "print(rand_tensor)"
   ]
  },
  {
   "cell_type": "markdown",
   "metadata": {},
   "source": [
    "### 3. Perform a matrix multiplication on the tensor from 2 with another random tensor with shape (1, 7) (hint: you may have to transpose the second tensor)."
   ]
  },
  {
   "cell_type": "code",
   "execution_count": 4,
   "metadata": {},
   "outputs": [
    {
     "name": "stdout",
     "output_type": "stream",
     "text": [
      "tf.Tensor(\n",
      "[[-1.8019943 ]\n",
      " [ 0.31870383]\n",
      " [-4.2884955 ]\n",
      " [ 0.24003237]\n",
      " [-1.0738826 ]\n",
      " [ 1.3627801 ]\n",
      " [ 0.7189735 ]], shape=(7, 1), dtype=float32)\n"
     ]
    }
   ],
   "source": [
    "\n",
    "# Define the shapes of the tensors\n",
    "shape1 = (7, 7)\n",
    "shape2 = (1, 7)\n",
    "\n",
    "# Generate random tensors\n",
    "tensor1 = tf.random.normal(shape1)\n",
    "tensor2 = tf.random.normal(shape2)\n",
    "\n",
    "# Transpose the second tensor\n",
    "tensor2_transposed = tf.transpose(tensor2)\n",
    "\n",
    "# Perform matrix multiplication\n",
    "result = tf.matmul(tensor1, tensor2_transposed)\n",
    "\n",
    "# Print the result\n",
    "print(result)"
   ]
  },
  {
   "cell_type": "markdown",
   "metadata": {},
   "source": [
    "### 4. Set the random seed to 0 and do 2 & 3 over again.\n",
    "The output should be:\n",
    "\n",
    "(tensor([[1.8542],\n",
    "         [1.9611],\n",
    "         [2.2884],\n",
    "         [3.0481],\n",
    "         [1.7067],\n",
    "         [2.5290],\n",
    "         [1.7989]]), torch.Size([7, 1]))"
   ]
  },
  {
   "cell_type": "code",
   "execution_count": 5,
   "metadata": {},
   "outputs": [
    {
     "name": "stdout",
     "output_type": "stream",
     "text": [
      "tensor([[ 3.5168],\n",
      "        [ 2.1984],\n",
      "        [-1.7815],\n",
      "        [ 3.8600],\n",
      "        [-1.5010],\n",
      "        [-1.6916],\n",
      "        [-2.9352]])\n",
      "torch.Size([7, 1])\n"
     ]
    }
   ],
   "source": [
    "import torch\n",
    "import numpy as np\n",
    "\n",
    "# Set the random seed\n",
    "torch.manual_seed(0)\n",
    "np.random.seed(0)\n",
    "\n",
    "# Define the shapes of the tensors\n",
    "shape1 = (7, 7)\n",
    "shape2 = (1, 7)\n",
    "\n",
    "# Generate random tensors\n",
    "tensor1 = torch.randn(shape1)\n",
    "tensor2 = torch.randn(shape2)\n",
    "\n",
    "# Transpose the second tensor\n",
    "tensor2_transposed = tensor2.T\n",
    "\n",
    "# Perform matrix multiplication\n",
    "result = torch.mm(tensor1, tensor2_transposed)\n",
    "\n",
    "print(result)\n",
    "print(result.shape)"
   ]
  },
  {
   "cell_type": "markdown",
   "metadata": {},
   "source": [
    "### 5. Speaking of random seeds, we saw how to set it with torch.manual_seed() but is there a GPU equivalent? (hint: you'll need to look into the documentation for torch.cuda for this one)\n",
    "If there is, set the GPU random seed to 1234."
   ]
  },
  {
   "cell_type": "code",
   "execution_count": 6,
   "metadata": {},
   "outputs": [
    {
     "name": "stdout",
     "output_type": "stream",
     "text": [
      "tensor([[-0.6650],\n",
      "        [-1.0960],\n",
      "        [ 0.5158],\n",
      "        [ 1.1359],\n",
      "        [-0.8528],\n",
      "        [-2.9025],\n",
      "        [ 1.7191]])\n",
      "torch.Size([7, 1])\n"
     ]
    }
   ],
   "source": [
    "import torch\n",
    "\n",
    "# Set the random seed for CPU and GPU\n",
    "torch.manual_seed(1234)\n",
    "if torch.cuda.is_available():\n",
    "    torch.cuda.manual_seed_all(1234)\n",
    "\n",
    "# Define the shapes of the tensors\n",
    "shape1 = (7, 7)\n",
    "shape2 = (1, 7)\n",
    "\n",
    "# Generate random tensors\n",
    "tensor1 = torch.randn(shape1)\n",
    "tensor2 = torch.randn(shape2)\n",
    "\n",
    "# Transpose the second tensor\n",
    "tensor2_transposed = tensor2.T\n",
    "\n",
    "# Perform matrix multiplication\n",
    "result = torch.mm(tensor1, tensor2_transposed)\n",
    "\n",
    "print(result)\n",
    "print(result.shape)"
   ]
  },
  {
   "cell_type": "markdown",
   "metadata": {},
   "source": []
  },
  {
   "cell_type": "markdown",
   "metadata": {},
   "source": [
    "### 6. Create two random tensors of shape (2, 3) and send them both to the GPU (you'll need access to a GPU for this). Set torch.manual_seed(1234) when creating the tensors (this doesn't have to be the GPU random seed). The output should be something like:\n",
    "Device: cuda\n",
    "(tensor([[0.0290, 0.4019, 0.2598],\n",
    "         [0.3666, 0.0583, 0.7006]], device='cuda:0'),\n",
    " tensor([[0.0518, 0.4681, 0.6738],\n",
    "         [0.3315, 0.7837, 0.5631]], device='cuda:0'))"
   ]
  },
  {
   "cell_type": "code",
   "execution_count": 7,
   "metadata": {},
   "outputs": [
    {
     "name": "stdout",
     "output_type": "stream",
     "text": [
      "Device: cpu\n",
      "tensor([[ 0.0461,  0.4024, -1.0115],\n",
      "        [ 0.2167, -0.6123,  0.5036]])\n",
      "tensor([[ 0.2310,  0.6931, -0.2669],\n",
      "        [ 2.1785,  0.1021, -0.2590]])\n"
     ]
    }
   ],
   "source": [
    "import torch\n",
    "\n",
    "# Set the random seed (for CPU)\n",
    "torch.manual_seed(1234)\n",
    "\n",
    "# Check for GPU availability\n",
    "if torch.cuda.is_available():\n",
    "    device = torch.device(\"cuda\")\n",
    "    print(\"Device:\", device)\n",
    "else:\n",
    "    device = torch.device(\"cpu\")\n",
    "    print(\"Device:\", device)\n",
    "\n",
    "# Create tensors and move them to the GPU\n",
    "tensor1 = torch.randn(2, 3).to(device)\n",
    "tensor2 = torch.randn(2, 3).to(device)\n",
    "\n",
    "print(tensor1)\n",
    "print(tensor2)"
   ]
  },
  {
   "cell_type": "markdown",
   "metadata": {},
   "source": [
    "### 7. Perform a matrix multiplication on the tensors you created in 6 (again, you may have to adjust the shapes of one of the tensors).\n",
    "The output should look like:\n",
    "\n",
    "(tensor([[0.3647, 0.4709],\n",
    "         [0.5184, 0.5617]], device='cuda:0'), torch.Size([2, 2]))"
   ]
  },
  {
   "cell_type": "code",
   "execution_count": 8,
   "metadata": {},
   "outputs": [
    {
     "name": "stdout",
     "output_type": "stream",
     "text": [
      "Device: cpu\n",
      "tensor([[-0.2000,  1.1706],\n",
      "        [ 0.2649, -1.3140]])\n",
      "torch.Size([2, 2])\n"
     ]
    }
   ],
   "source": [
    "import torch\n",
    "\n",
    "# Set the random seed (for CPU)\n",
    "torch.manual_seed(1234)\n",
    "\n",
    "# Check for GPU availability\n",
    "if torch.cuda.is_available():\n",
    "    device = torch.device(\"cuda\")\n",
    "    print(\"Device:\", device)\n",
    "else:\n",
    "    device = torch.device(\"cpu\")\n",
    "    print(\"Device:\", device)\n",
    "\n",
    "# Create tensors and move them to the GPU\n",
    "tensor1 = torch.randn(2, 3).to(device)\n",
    "tensor2 = torch.randn(3, 2).to(device)  # Transpose tensor2 here\n",
    "\n",
    "# Perform matrix multiplication\n",
    "result = torch.mm(tensor1, tensor2)\n",
    "\n",
    "print(result)\n",
    "print(result.shape)"
   ]
  },
  {
   "cell_type": "markdown",
   "metadata": {},
   "source": [
    "### 8. Find the maximum and minimum values of the output of 7."
   ]
  },
  {
   "cell_type": "code",
   "execution_count": 9,
   "metadata": {},
   "outputs": [
    {
     "name": "stdout",
     "output_type": "stream",
     "text": [
      "Device: cpu\n",
      "Maximum values: tensor([0.2649, 1.1706])\n",
      "Minimum values: tensor([-0.2000, -1.3140])\n"
     ]
    }
   ],
   "source": [
    "import torch\n",
    "\n",
    "# Set the random seed (for CPU)\n",
    "torch.manual_seed(1234)\n",
    "\n",
    "# Check for GPU availability\n",
    "if torch.cuda.is_available():\n",
    "    device = torch.device(\"cuda\")\n",
    "    print(\"Device:\", device)\n",
    "else:\n",
    "    device = torch.device(\"cpu\")\n",
    "    print(\"Device:\", device)\n",
    "\n",
    "# Create tensors and move them to the GPU\n",
    "tensor1 = torch.randn(2, 3).to(device)\n",
    "tensor2 = torch.randn(3, 2).to(device)  # Transpose tensor2 here\n",
    "\n",
    "# Perform matrix multiplication\n",
    "result = torch.mm(tensor1, tensor2)\n",
    "\n",
    "# Find maximum and minimum values\n",
    "max_value, _ = torch.max(result, dim=0)  # Find maximum value along dimension 0 (columns)\n",
    "min_value, _ = torch.min(result, dim=0)  # Find minimum value along dimension 0 (columns)\n",
    "\n",
    "print(\"Maximum values:\", max_value)\n",
    "print(\"Minimum values:\", min_value)"
   ]
  },
  {
   "cell_type": "markdown",
   "metadata": {},
   "source": [
    "### 9. Find the maximum and minimum index values of the output of 7."
   ]
  },
  {
   "cell_type": "code",
   "execution_count": 10,
   "metadata": {},
   "outputs": [
    {
     "name": "stdout",
     "output_type": "stream",
     "text": [
      "Device: cpu\n",
      "Maximum indices: tensor([1, 0])\n",
      "Minimum indices: tensor([0, 1])\n"
     ]
    }
   ],
   "source": [
    "import torch\n",
    "\n",
    "# Set the random seed (for CPU)\n",
    "torch.manual_seed(1234)\n",
    "\n",
    "# Check for GPU availability\n",
    "if torch.cuda.is_available():\n",
    "    device = torch.device(\"cuda\")\n",
    "    print(\"Device:\", device)\n",
    "else:\n",
    "    device = torch.device(\"cpu\")\n",
    "    print(\"Device:\", device)\n",
    "\n",
    "# Create tensors and move them to the GPU\n",
    "tensor1 = torch.randn(2, 3).to(device)\n",
    "tensor2 = torch.randn(3, 2).to(device)  # Transpose tensor2 here\n",
    "\n",
    "# Perform matrix multiplication\n",
    "result = torch.mm(tensor1, tensor2)\n",
    "\n",
    "# Find maximum and minimum values\n",
    "_, max_indices = torch.max(result, dim=0)  # Find indices of maximum values\n",
    "_, min_indices = torch.min(result, dim=0)  # Find indices of minimum values\n",
    "\n",
    "print(\"Maximum indices:\", max_indices)\n",
    "print(\"Minimum indices:\", min_indices)"
   ]
  },
  {
   "cell_type": "markdown",
   "metadata": {},
   "source": [
    "### 10. Make a random tensor with shape (1, 1, 1, 10) and then create a new tensor with all the 1 dimensions removed to be left with a tensor of shape (10). Set the seed to 7 when you create it and print out the first tensor and it's shape as well as the second tensor and it's shape.\n",
    "The output should look like:\n",
    "\n",
    "tensor([[[[0.5349, 0.1988, 0.6592, 0.6569, 0.2328, 0.4251, 0.2071, 0.6297,\n",
    "           0.3653, 0.8513]]]]) torch.Size([1, 1, 1, 10])\n",
    "tensor([0.5349, 0.1988, 0.6592, 0.6569, 0.2328, 0.4251, 0.2071, 0.6297, 0.3653,\n",
    "        0.8513]) torch.Size([10])"
   ]
  },
  {
   "cell_type": "code",
   "execution_count": 11,
   "metadata": {},
   "outputs": [
    {
     "name": "stdout",
     "output_type": "stream",
     "text": [
      "tensor([[[[-0.1468,  0.7861,  0.9468, -1.1143,  1.6908, -0.8948, -0.3556,\n",
      "            1.2324,  0.1382, -1.6822]]]])\n",
      "torch.Size([1, 1, 1, 10])\n",
      "tensor([-0.1468,  0.7861,  0.9468, -1.1143,  1.6908, -0.8948, -0.3556,  1.2324,\n",
      "         0.1382, -1.6822])\n",
      "torch.Size([10])\n"
     ]
    }
   ],
   "source": [
    "import torch\n",
    "\n",
    "# Set the random seed\n",
    "torch.manual_seed(7)\n",
    "\n",
    "# Create the first tensor with shape (1, 1, 1, 10)\n",
    "tensor1 = torch.randn(1, 1, 1, 10)\n",
    "\n",
    "# Print the first tensor and its shape\n",
    "print(tensor1)\n",
    "print(tensor1.shape)\n",
    "\n",
    "# Remove the singleton dimensions\n",
    "tensor2 = tensor1.squeeze()\n",
    "\n",
    "# Print the second tensor and its shape\n",
    "print(tensor2)\n",
    "print(tensor2.shape)"
   ]
  }
 ],
 "metadata": {
  "kernelspec": {
   "display_name": ".venv",
   "language": "python",
   "name": "python3"
  },
  "language_info": {
   "codemirror_mode": {
    "name": "ipython",
    "version": 3
   },
   "file_extension": ".py",
   "mimetype": "text/x-python",
   "name": "python",
   "nbconvert_exporter": "python",
   "pygments_lexer": "ipython3",
   "version": "3.12.8"
  }
 },
 "nbformat": 4,
 "nbformat_minor": 2
}
